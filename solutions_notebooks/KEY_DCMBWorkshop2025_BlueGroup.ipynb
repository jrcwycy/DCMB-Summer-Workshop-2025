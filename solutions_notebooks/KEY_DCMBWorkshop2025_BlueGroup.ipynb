{
  "nbformat": 4,
  "nbformat_minor": 0,
  "metadata": {
    "colab": {
      "provenance": []
    },
    "kernelspec": {
      "name": "python3",
      "display_name": "Python 3"
    },
    "language_info": {
      "name": "python"
    }
  },
  "cells": [
    {
      "cell_type": "markdown",
      "source": [
        "# Introductory Bioinformatics Exercises\n",
        "\n",
        "Today, we will explore DNA sequences — strings of characters that represent biological information.\n",
        "\n",
        "You’ll learn:\n",
        "\n",
        "* How to count nucleotides\n",
        "\n",
        "* How to compute mutation differences (Hamming Distance)\n",
        "\n",
        "* How to get the reverse complement of a DNA strand\n",
        "\n",
        "* How to transcribe DNA to RNA\n",
        "\n",
        "Please answer the introductory poll at [PollEv.com​/pranjalsrivastava723](https://PollEv.com​/pranjalsrivastava723)"
      ],
      "metadata": {
        "id": "lk6J1SRjJZol"
      }
    },
    {
      "cell_type": "markdown",
      "source": [
        "## Python Introduction\n",
        "\n",
        "Python is a general-purpose, versatile and popular programming language. It’s great as a first language because it is concise and easy to read, and it is very valuable because it can be used for everything from web development to software development and scientific applications.\n",
        "\n",
        "Below we will write our first line of code! We will make Python \"come alive\" by sending a greeting to the world on the screen. To do this, we will use a command called `print`. This command tells Python to print the input text to the screen. Let's begin!"
      ],
      "metadata": {
        "id": "EbnpD4hLoqj0"
      }
    },
    {
      "cell_type": "code",
      "source": [
        "# command Python to print the string \"Bioinformatics\"\n",
        "print(\"Bioinformatics\")"
      ],
      "metadata": {
        "id": "fJ6--901pHP-",
        "colab": {
          "base_uri": "https://localhost:8080/"
        },
        "outputId": "b220acc7-81c9-4b6f-b7eb-cffa91de7cb7"
      },
      "execution_count": null,
      "outputs": [
        {
          "output_type": "stream",
          "name": "stdout",
          "text": [
            "Bioinformatics\n"
          ]
        }
      ]
    },
    {
      "cell_type": "markdown",
      "source": [
        "In Bioinformatics, we often need to work with text data, which are called strings in Python and designated using `str`. Strings are comprised of characters, like letters or symbols, or a bunch of characters put together, like words. Strings are defined using single quotations `' '` or double quotations `\" \"`. You can use either as long as they match at the start and end of the string.  There are a variety of operations that we can perform on strings:"
      ],
      "metadata": {
        "id": "EcZJKBz4pXlK"
      }
    },
    {
      "cell_type": "code",
      "source": [
        "# create string variable name, print type\n",
        "DNA = \"ATGC\"\n",
        "type(DNA)"
      ],
      "metadata": {
        "colab": {
          "base_uri": "https://localhost:8080/"
        },
        "id": "whSBB09WqQv5",
        "outputId": "a8c543de-e5b8-4fe0-aca1-2b840f2a2793"
      },
      "execution_count": null,
      "outputs": [
        {
          "output_type": "execute_result",
          "data": {
            "text/plain": [
              "str"
            ]
          },
          "metadata": {},
          "execution_count": 3
        }
      ]
    },
    {
      "cell_type": "code",
      "source": [
        "# Concatenate two bioinformatics terms using +\n",
        "print(\"Gene\" + \"Expression\")\n",
        "\n",
        "# Add space in between\n",
        "print(\"Gene\" + \" \" + \"Expression\")"
      ],
      "metadata": {
        "id": "HjyS02E00ksT",
        "colab": {
          "base_uri": "https://localhost:8080/"
        },
        "outputId": "5a1c52eb-0003-43af-e755-23a85632b789"
      },
      "execution_count": null,
      "outputs": [
        {
          "output_type": "stream",
          "name": "stdout",
          "text": [
            "GeneExpression\n",
            "Gene Expression\n"
          ]
        }
      ]
    },
    {
      "cell_type": "markdown",
      "source": [
        "We can get a subset of characters from a string. Format: `[start : stop : step]`\n",
        "\n",
        "What `string[1:8:2]` means:\n",
        "* Start at index 1\n",
        "* Go up to (but not including) index 8\n",
        "* Take every 2nd character"
      ],
      "metadata": {
        "id": "3JTvF2N15H5f"
      }
    },
    {
      "cell_type": "code",
      "source": [
        "string = \"Bioinformatics\"\n",
        "\n",
        "# Get subset of string\n",
        "print(string[1:8:2])"
      ],
      "metadata": {
        "colab": {
          "base_uri": "https://localhost:8080/"
        },
        "id": "MdFRcjp4zokt",
        "outputId": "1fb7b766-18df-4ae5-8203-21a3cff6c257"
      },
      "execution_count": null,
      "outputs": [
        {
          "output_type": "stream",
          "name": "stdout",
          "text": [
            "iifr\n"
          ]
        }
      ]
    },
    {
      "cell_type": "code",
      "source": [
        "# To get the reverse of a string\n",
        "reversed_string = string[::-1]\n",
        "print(reversed_string)"
      ],
      "metadata": {
        "id": "enm_bQqOSQz0",
        "outputId": "138ef82b-42e8-4486-f05a-989600978f9e",
        "colab": {
          "base_uri": "https://localhost:8080/"
        }
      },
      "execution_count": null,
      "outputs": [
        {
          "output_type": "stream",
          "name": "stdout",
          "text": [
            "scitamrofnioiB\n"
          ]
        }
      ]
    },
    {
      "cell_type": "code",
      "source": [
        "# specific letters can be counted\n",
        "x = string.count(\"i\")\n",
        "print(\"Number of i:\", x)"
      ],
      "metadata": {
        "colab": {
          "base_uri": "https://localhost:8080/"
        },
        "id": "nDbPzn0PrqAB",
        "outputId": "51afc595-2bee-48ae-a486-87ab3df45379"
      },
      "execution_count": null,
      "outputs": [
        {
          "output_type": "stream",
          "name": "stdout",
          "text": [
            "Number of i: 3\n"
          ]
        }
      ]
    },
    {
      "cell_type": "markdown",
      "source": [
        "What if we wanted to run one block of code if the condition is `True`, and a different line of code if the condition is `False`? In other words, what if we wanted to run one block of code if our string has the letter 'b', and another block of code if it has the letter 't' and another if none of the former conditions are true? This is where we use `if/else`.\n",
        "\n",
        "An `if/else` looks like this:\n",
        "\n",
        "```\n",
        "if [condition 1]:\n",
        "  [command 1]\n",
        "elif [condition 2]:\n",
        "  [command 2]\n",
        "else:\n",
        "  [command 3]\n",
        "```\n",
        "\n",
        "For instance:"
      ],
      "metadata": {
        "id": "hKaQoAiexHmf"
      }
    },
    {
      "cell_type": "code",
      "source": [
        "favorite_method = \"RNA-Seq\"\n",
        "\n",
        "if favorite_method == \"RNA-Seq\":\n",
        "    print(\"You like RNA-Seq! Great for transcriptome analysis.\")\n",
        "elif favorite_method == \"ChIP-Seq\":\n",
        "    print(\"You like ChIP-Seq! Perfect for studying protein-DNA interactions.\")\n",
        "else:\n",
        "    print(\"You like some other sequencing method. Fascinating!\")\n"
      ],
      "metadata": {
        "colab": {
          "base_uri": "https://localhost:8080/"
        },
        "id": "ldweyuDgyMSK",
        "outputId": "0bb547c8-d33d-437d-a69f-fac4e04cae8d"
      },
      "execution_count": null,
      "outputs": [
        {
          "output_type": "stream",
          "name": "stdout",
          "text": [
            "You like RNA-Seq! Great for transcriptome analysis.\n"
          ]
        }
      ]
    },
    {
      "cell_type": "markdown",
      "source": [
        "In Python, a `for` loop is used to iterate over a sequence (such as a string) or other iterable objects. It executes a block of code for each item in the sequence.\n",
        "\n",
        "In the following example;\n",
        "\n",
        "* item: This temporary variable takes on the value of each character in the string during each iteration of the loop.\n",
        "* string1: This is the sequence or object that the loop will iterate over.\n",
        "* `len()`: stores the total number of characters in string1. In this case, `len(string)` would be 11.\n",
        "\n"
      ],
      "metadata": {
        "id": "G_iQGVzjtI5d"
      }
    },
    {
      "cell_type": "code",
      "source": [
        "# we can parse each character in the string using for loop\n",
        "\n",
        "for item in range(0, len(string), 1):\n",
        "    print(\"Position:\", item, \"letter:\", string[item])\n"
      ],
      "metadata": {
        "colab": {
          "base_uri": "https://localhost:8080/"
        },
        "id": "cri-GyfSsMhy",
        "outputId": "cecc7e2c-4de5-470c-fabe-8d2ca21fe4e9"
      },
      "execution_count": null,
      "outputs": [
        {
          "output_type": "stream",
          "name": "stdout",
          "text": [
            "Position: 0 letter: B\n",
            "Position: 1 letter: i\n",
            "Position: 2 letter: o\n",
            "Position: 3 letter: i\n",
            "Position: 4 letter: n\n",
            "Position: 5 letter: f\n",
            "Position: 6 letter: o\n",
            "Position: 7 letter: r\n",
            "Position: 8 letter: m\n",
            "Position: 9 letter: a\n",
            "Position: 10 letter: t\n",
            "Position: 11 letter: i\n",
            "Position: 12 letter: c\n",
            "Position: 13 letter: s\n"
          ]
        }
      ]
    },
    {
      "cell_type": "markdown",
      "source": [
        "## Exercise 1: Count Nucleotides\n",
        "\n",
        "A DNA sequence is made of 4 nucleotides:\n",
        "\n",
        "A = Adenine\n",
        "\n",
        "T = Thymine\n",
        "\n",
        "C = Cytosine\n",
        "\n",
        "G = Guanine\n",
        "\n",
        "Example DNA sequence:\n"
      ],
      "metadata": {
        "id": "VlVQwpLANs5o"
      }
    },
    {
      "cell_type": "code",
      "source": [
        "dna = \"AGCTTAGGCTA\""
      ],
      "metadata": {
        "id": "zdleiE9SKGa3"
      },
      "execution_count": null,
      "outputs": []
    },
    {
      "cell_type": "markdown",
      "source": [
        "Goal: Print the count of each nucleotide in a DNA string\n",
        "\n",
        "Hint: use `count()` method\n"
      ],
      "metadata": {
        "id": "zlfymkJavN3V"
      }
    },
    {
      "cell_type": "code",
      "source": [
        "# Write your code below:\n",
        "# Count A\n",
        "# Count T\n",
        "# Count C\n",
        "# Count G\n",
        "\n",
        "# Print counts here\n"
      ],
      "metadata": {
        "id": "jGrO883EPcgD"
      },
      "execution_count": null,
      "outputs": []
    },
    {
      "cell_type": "code",
      "source": [
        "# KEY\n",
        "count_A = dna.count(\"A\")\n",
        "count_T = dna.count(\"T\")\n",
        "count_C = dna.count(\"C\")\n",
        "count_G = dna.count(\"G\")\n",
        "\n",
        "print(\"A:\", count_A)\n",
        "print(\"T:\", count_T)\n",
        "print(\"C:\", count_C)\n",
        "print(\"G:\", count_G)"
      ],
      "metadata": {
        "id": "ngeAI9lbOBEX",
        "outputId": "f05d7be6-5d6c-4352-d556-f16d8c1342cf",
        "colab": {
          "base_uri": "https://localhost:8080/"
        }
      },
      "execution_count": null,
      "outputs": [
        {
          "output_type": "stream",
          "name": "stdout",
          "text": [
            "A: 3\n",
            "T: 3\n",
            "C: 2\n",
            "G: 3\n"
          ]
        }
      ]
    },
    {
      "cell_type": "markdown",
      "source": [
        "## Exercise 2: Calculate Hamming Distance (Count Mutations)\n",
        "\n",
        "Hamming distance is the minimum number of symbol substitutions required to change one string into another of equal length. It essentially tells you how many mutations occurred between two strands.\n",
        "\n",
        "Goal: Given two DNA strands of equal length, count how many positions are different.\n",
        "\n",
        "Hint: Use a `for` loop and compare character-by-character"
      ],
      "metadata": {
        "id": "ziUgU9UVTNu6"
      }
    },
    {
      "cell_type": "code",
      "source": [
        "dna1 = \"GAGCCTACTAACGGGAT\"\n",
        "dna2 = \"CATCGTAATGACGGCCT\"\n",
        "\n",
        "# Write code to count how many characters are different at the same index\n"
      ],
      "metadata": {
        "id": "dO16mF-isy7b"
      },
      "execution_count": null,
      "outputs": []
    },
    {
      "cell_type": "code",
      "source": [
        "# KEY\n",
        "\n",
        "dna1 = \"GAGCCTACTAACGGGAT\"\n",
        "dna2 = \"CATCGTAATGACGGCCT\"\n",
        "\n",
        "# Initiate hamming distance as 0\n",
        "distance = 0\n",
        "\n",
        "for i in range(len(dna1)):\n",
        "    # Compare bases at the same index and add 1 to the distance if they mismatch\n",
        "    if dna1[i] != dna2[i]:\n",
        "        distance += 1\n",
        "\n",
        "print(\"Hamming Distance:\", distance)\n"
      ],
      "metadata": {
        "colab": {
          "base_uri": "https://localhost:8080/"
        },
        "id": "QpwicHSQvgZ7",
        "outputId": "40d7e9c6-2f93-4ab1-d992-ff2eda645f4c"
      },
      "execution_count": null,
      "outputs": [
        {
          "output_type": "stream",
          "name": "stdout",
          "text": [
            "Hamming Distance: 7\n"
          ]
        }
      ]
    },
    {
      "cell_type": "markdown",
      "source": [
        "## Exercise 3: Reverse Complement of DNA\n",
        "\n",
        "We do a reverse complement of DNA to get the matching sequence that sticks to it, which is needed for processes like replication or transcription. The reverse complement of a DNA sequence is obtained by reversing the sequence and then replacing each nucleotide with its complementary base. For example, the reverse complement of 5'-ATCG-3' is 3'-GCTA-5'.\n",
        "\n",
        "Goal: Find the complement of each base:\n",
        "\n",
        "A → T\n",
        "\n",
        "T → A\n",
        "\n",
        "C → G\n",
        "\n",
        "G → C\n",
        "\n",
        "Then reverse the full sequence.\n",
        "\n",
        "Hint: You can reverse a string using `[::-1]`"
      ],
      "metadata": {
        "id": "3umkaY54v6C5"
      }
    },
    {
      "cell_type": "code",
      "source": [
        "dna = \"AGCTTAGGCTA\"\n",
        "\n",
        "# Step 1: Replace each base with its complement\n",
        "\n",
        "\n",
        "# Step 2: Reverse the resulting string"
      ],
      "metadata": {
        "id": "4o78ahtP0DWE"
      },
      "execution_count": null,
      "outputs": []
    },
    {
      "cell_type": "code",
      "source": [
        "# KEY\n",
        "\n",
        "dna = \"AGCTTAGGCTA\"\n",
        "\n",
        "complement = \"\"\n",
        "\n",
        "for base in dna:\n",
        "    if base == \"A\":\n",
        "        complement += \"T\"\n",
        "    elif base == \"T\":\n",
        "        complement += \"A\"\n",
        "    elif base == \"C\":\n",
        "        complement += \"G\"\n",
        "    elif base == \"G\":\n",
        "        complement += \"C\"\n",
        "\n",
        "reverse_complement = complement[::-1]\n",
        "\n",
        "print(\"Original:          \", dna)\n",
        "print(\"Reverse Complement:\", reverse_complement)\n"
      ],
      "metadata": {
        "colab": {
          "base_uri": "https://localhost:8080/"
        },
        "id": "UqeP8SG_zJ5f",
        "outputId": "640ab4a3-3114-44cc-cebd-1511ce958e75"
      },
      "execution_count": null,
      "outputs": [
        {
          "output_type": "stream",
          "name": "stdout",
          "text": [
            "Original:           AGCTTAGGCTA\n",
            "Reverse Complement: TAGCCTAAGCT\n"
          ]
        }
      ]
    },
    {
      "cell_type": "markdown",
      "source": [
        "## Exercise 4: Transcription\n",
        "\n",
        "Transcription is the first step in the flow of genetic information from DNA to protein. It involves creating an RNA copy of a DNA sequence.\n",
        "\n",
        "Goal: Convert all T (thymine) bases in the DNA string to U (uracil) to simulate RNA transcription."
      ],
      "metadata": {
        "id": "JV_8e9jo02jO"
      }
    },
    {
      "cell_type": "code",
      "source": [
        "dna = \"AGCTTAGGCTA\"\n",
        "\n",
        "# Replace 'T' with 'U' in the DNA string\n",
        "\n",
        "\n",
        "# Print the RNA string\n"
      ],
      "metadata": {
        "id": "pRhOhvyS1_km"
      },
      "execution_count": null,
      "outputs": []
    },
    {
      "cell_type": "code",
      "source": [
        "# KEY\n",
        "\n",
        "dna = \"AGCTTAGGCTA\"\n",
        "\n",
        "rna = \"\"\n",
        "\n",
        "for base in dna:\n",
        "    if base == \"T\":\n",
        "        rna += \"U\"\n",
        "    else:\n",
        "        rna += base\n",
        "\n",
        "print(\"DNA:\", dna)\n",
        "print(\"RNA:\", rna)\n"
      ],
      "metadata": {
        "id": "v1oNbzXA1efU"
      },
      "execution_count": null,
      "outputs": []
    },
    {
      "cell_type": "markdown",
      "source": [
        "## Bonus Exercise: Print Codons From DNA\n",
        "\n",
        "A codon is a DNA or RNA sequence of three nucleotides (a trinucleotide) that forms a unit of genomic information encoding a particular amino acid. Codons are read from left to right, in groups of 3, starting from position 0.\n",
        "\n",
        "Goal: Print every 3-letter codon (triplet) starting from the beginning of the DNA sequence.\n",
        "Ignore leftover bases if the total length is not a multiple of 3."
      ],
      "metadata": {
        "id": "I4BOQxLa27R6"
      }
    },
    {
      "cell_type": "code",
      "source": [
        "dna = \"ATGCGATACGCTTGA\"\n",
        "\n",
        "# Use a loop with steps of 3\n",
        "\n",
        "\n",
        "# Extract and print substrings of length 3\n"
      ],
      "metadata": {
        "id": "hD33S0C33oKE"
      },
      "execution_count": null,
      "outputs": []
    },
    {
      "cell_type": "code",
      "source": [
        "# KEY\n",
        "\n",
        "dna = \"ATGCGATACGCTTGA\"\n",
        "\n",
        "# Loop through the sequence in steps of 3\n",
        "# Stop before going past the end of the string\n",
        "for i in range(0, len(dna), 3):\n",
        "    codon = dna[i:i+3]\n",
        "    print(codon)\n"
      ],
      "metadata": {
        "id": "cQArE_D-4XKC"
      },
      "execution_count": null,
      "outputs": []
    },
    {
      "cell_type": "markdown",
      "source": [
        "## Bonus Exercise: Visualization of k-mer Frequency\n",
        "\n",
        "A k-mer frequency histogram gives us a visual summary of how often specific short sequences (k-mers) appear in a longer DNA or RNA sequence. We can determine which k-mers are most common, patterns or repeats in the DNA sequences etc.\n",
        "\n",
        "Goal: Count how many times each 3-mer (or any k-mer) appears in the sequence and plot as a bar chart."
      ],
      "metadata": {
        "id": "H8vbz4tJ6c80"
      }
    },
    {
      "cell_type": "code",
      "source": [
        "import matplotlib.pyplot as plt"
      ],
      "metadata": {
        "id": "4dQeaZGM7Grr"
      },
      "execution_count": null,
      "outputs": []
    },
    {
      "cell_type": "code",
      "source": [
        "dna = \"ATGCGCGCGTATATATAGCGCGCGCGTATATATAGCGCGCGT\"\n",
        "k = 3\n",
        "\n",
        "kmer_counts = {}\n",
        "\n",
        "for i in range(len(dna) - k + 1):\n",
        "    kmer = dna[i:i+k]\n",
        "    if kmer in kmer_counts:\n",
        "        kmer_counts[kmer] += 1\n",
        "    else:\n",
        "        kmer_counts[kmer] = 1\n",
        "\n",
        "# Sort by frequency\n",
        "sorted_kmers = sorted(kmer_counts.items(), key=lambda x: x[1], reverse=True)\n",
        "\n",
        "# Plot top 10\n",
        "top_kmers = sorted_kmers[:10]\n",
        "labels, values = zip(*top_kmers)\n",
        "\n",
        "plt.figure(figsize=(10,5))\n",
        "plt.bar(labels, values, color='purple')\n",
        "plt.title(f\"Top {k}-mer Frequencies\")\n",
        "plt.xlabel(f\"{k}-mers\")\n",
        "plt.ylabel(\"Count\")\n",
        "plt.xticks(rotation=45)\n",
        "plt.show()\n"
      ],
      "metadata": {
        "colab": {
          "base_uri": "https://localhost:8080/",
          "height": 505
        },
        "id": "m35bJ_kN7EsG",
        "outputId": "0e233060-e473-44e2-d0b9-f5cd78437b2d"
      },
      "execution_count": null,
      "outputs": [
        {
          "output_type": "display_data",
          "data": {
            "text/plain": [
              "<Figure size 1000x500 with 1 Axes>"
            ],
            "image/png": "[encoded data removed]"
          },
          "metadata": {}
        }
      ]
    }
  ]
}