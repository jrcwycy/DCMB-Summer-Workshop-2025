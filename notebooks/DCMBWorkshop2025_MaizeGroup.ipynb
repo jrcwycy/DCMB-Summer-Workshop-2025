{
  "cells": [
    {
      "cell_type": "markdown",
      "source": [
        "#**Intermediate Bioinformatics Exercise** — Single-cell transcriptomics\n",
        "\n",
        "\n",
        "Today, we will go through a standard analysis workflow for single-cell RNA-sequencing (scRNA-seq) data using [scanpy](https://scanpy.readthedocs.io/en/stable/index.html), a powerful and scalable Python library for single-cell analysis.  \n",
        "<br>\n",
        "\n",
        "You'll learn how to:\n",
        "* Work with [AnnData](https://anndata.readthedocs.io/en/stable/) objects\n",
        "* Load and explore scRNA-seq datasets in Python\n",
        "* Perform standard preprocessing steps (e.g., filtering cells/genes, normalization, log transformation)\n",
        "* Reduce dimensionality (feature selection and PCA)\n",
        "* Compute and visualize neighborhood graphs and UMAP embeddings\n",
        "* Apply clustering algorithms and annotate cell populations\n",
        "\n",
        "\n",
        "<!-- *   Quality control\n",
        "*   Normalization\n",
        "*   Dimensionality reduction (feature selection and PCA)\n",
        "*   UMAP visualization\n",
        "*   Clustering\n",
        "*   Cell-type annotation -->\n",
        "\n",
        "<br>\n",
        "\n",
        "An expanded version of this tutorial is available [here](https://scanpy.readthedocs.io/en/stable/tutorials/basics/clustering.html).\n",
        "\n",
        "---"
      ],
      "metadata": {
        "id": "kGM4P21nBu9G"
      },
      "id": "kGM4P21nBu9G"
    },
    {
      "cell_type": "markdown",
      "id": "404b48be-6e11-4539-8524-4213162d909c",
      "metadata": {
        "id": "404b48be-6e11-4539-8524-4213162d909c"
      },
      "source": [
        "# Imports"
      ]
    },
    {
      "cell_type": "code",
      "execution_count": null,
      "id": "f1990713-5968-4fc7-aeb6-5a842606fd8c",
      "metadata": {
        "id": "f1990713-5968-4fc7-aeb6-5a842606fd8c",
        "collapsed": true
      },
      "outputs": [],
      "source": [
        "# Core scverse libraries\n",
        "!pip install scanpy\n",
        "!pip install anndata\n",
        "!pip install pooch\n",
        "!pip install igraph\n",
        "\n",
        "import scanpy as sc\n",
        "import anndata as ad\n",
        "import pooch\n",
        "\n",
        "# plotting parameters\n",
        "sc.settings.set_figure_params(dpi=150, facecolor=\"white\")"
      ]
    },
    {
      "cell_type": "code",
      "source": [
        "import warnings\n",
        "warnings.filterwarnings(\"ignore\", message=\".*names are not unique.*\")"
      ],
      "metadata": {
        "id": "H0_xksvoX25U"
      },
      "id": "H0_xksvoX25U",
      "execution_count": null,
      "outputs": []
    },
    {
      "cell_type": "markdown",
      "source": [
        "# Load in the data"
      ],
      "metadata": {
        "id": "e2_e-unrOQwu"
      },
      "id": "e2_e-unrOQwu"
    },
    {
      "cell_type": "markdown",
      "id": "3211b168-0575-43fa-945c-405ee9438098",
      "metadata": {
        "id": "3211b168-0575-43fa-945c-405ee9438098"
      },
      "source": [
        "The data used in this tutorial was collected from bone marrow mononuclear cells of healthy human donors from [Luecken et al. 2021](https://datasets-benchmarks-proceedings.neurips.cc/paper_files/paper/2021/file/158f3069a435b314a80bdcb024f8e422-Paper-round2.pdf).\n",
        "\n",
        "\n",
        "We are reading in the count matrix into an [AnnData](https://anndata.readthedocs.io/en/latest/tutorials/notebooks/getting-started.html) object, which holds many slots for annotations and different representations of the data."
      ]
    },
    {
      "cell_type": "code",
      "execution_count": null,
      "id": "f0448e97",
      "metadata": {
        "id": "f0448e97"
      },
      "outputs": [],
      "source": [
        "EXAMPLE_DATA = pooch.create(\n",
        "    path=pooch.os_cache(\"scverse_tutorials\"),\n",
        "    base_url=\"doi:10.6084/m9.figshare.22716739.v1/\",\n",
        ")\n",
        "EXAMPLE_DATA.load_registry_from_doi()"
      ]
    },
    {
      "cell_type": "code",
      "execution_count": null,
      "id": "9bdf7f10-e9b9-4929-a7e2-7ac373d769d1",
      "metadata": {
        "id": "9bdf7f10-e9b9-4929-a7e2-7ac373d769d1"
      },
      "outputs": [],
      "source": [
        "# We are loading in 2 samples, each from a different donor\n",
        "samples = {\n",
        "    \"s1d1\": \"s1d1_filtered_feature_bc_matrix.h5\",\n",
        "    \"s1d3\": \"s1d3_filtered_feature_bc_matrix.h5\",\n",
        "}\n",
        "adatas = {}\n",
        "\n",
        "for sample_id, filename in samples.items():\n",
        "    path = EXAMPLE_DATA.fetch(filename)\n",
        "    sample_adata = sc.read_10x_h5(path)\n",
        "    sample_adata.var_names_make_unique()\n",
        "    adatas[sample_id] = sample_adata\n",
        "\n",
        "adata = ad.concat(adatas, label=\"sample\")\n",
        "adata.obs_names_make_unique() # ensures cell barcodes are unique\n",
        "\n",
        "print(\"\\nFinished loading samples.\\n\")\n",
        "adata"
      ]
    },
    {
      "cell_type": "code",
      "source": [
        "print(f\"Total number of cells: {adata.n_obs}\\n\")\n",
        "print(f\"Cells per sample:\\n{adata.obs['sample'].value_counts()}\\n\")\n",
        "\n",
        "adata.obs.head()"
      ],
      "metadata": {
        "id": "9Iwi7wMxOx7U"
      },
      "id": "9Iwi7wMxOx7U",
      "execution_count": null,
      "outputs": []
    },
    {
      "cell_type": "code",
      "source": [
        "print(f\"Total number of genes: {adata.n_vars}\\n\")\n",
        "\n",
        "adata.var.head()"
      ],
      "metadata": {
        "id": "4PHHChySO3As"
      },
      "id": "4PHHChySO3As",
      "execution_count": null,
      "outputs": []
    },
    {
      "cell_type": "markdown",
      "id": "c673fe14-df28-4d53-abf6-3a852040e571",
      "metadata": {
        "id": "c673fe14-df28-4d53-abf6-3a852040e571"
      },
      "source": [
        "The data contains 17,125 total cells (~8,000 cells per sample) and 36,601 measured genes. We'll now investigate these with a basic preprocessing and clustering workflow."
      ]
    },
    {
      "cell_type": "markdown",
      "id": "e306dde3-b587-4561-b5ec-e8a2ac5e2c13",
      "metadata": {
        "id": "e306dde3-b587-4561-b5ec-e8a2ac5e2c13"
      },
      "source": [
        "# Quality Control"
      ]
    },
    {
      "cell_type": "markdown",
      "id": "cd32b625-7f24-4b9c-9564-dd97c57dc1b2",
      "metadata": {
        "id": "cd32b625-7f24-4b9c-9564-dd97c57dc1b2"
      },
      "source": [
        "The scanpy function `calculate_qc_metrics()` calculates common quality control (QC) metrics, which are largely based on `calculateQCMetrics()` from scater [McCarthy2017](https://doi.org/10.1093/bioinformatics/btw777). One can pass specific gene populations to `calculate_qc_metrics()` in order to calculate proportions of counts for these populations. Mitochondrial, ribosomal and hemoglobin genes are defined by distinct prefixes as listed below."
      ]
    },
    {
      "cell_type": "code",
      "execution_count": null,
      "id": "75df4b20-29ca-4e12-a878-94698a1b67d2",
      "metadata": {
        "id": "75df4b20-29ca-4e12-a878-94698a1b67d2"
      },
      "outputs": [],
      "source": [
        "# mitochondrial genes, \"MT-\" for human, \"Mt-\" for mouse\n",
        "adata.var[\"mt\"] = adata.var_names.str.startswith(\"MT-\")\n",
        "# ribosomal genes\n",
        "adata.var[\"ribo\"] = adata.var_names.str.startswith((\"RPS\", \"RPL\"))\n",
        "# hemoglobin genes\n",
        "adata.var[\"hb\"] = adata.var_names.str.contains(\"^HB[^(P)]\")\n",
        "\n",
        "adata.var.head()"
      ]
    },
    {
      "cell_type": "code",
      "execution_count": null,
      "id": "efd36ca1-75c7-4716-8766-a5571951537b",
      "metadata": {
        "id": "efd36ca1-75c7-4716-8766-a5571951537b"
      },
      "outputs": [],
      "source": [
        "sc.pp.calculate_qc_metrics(\n",
        "    adata, qc_vars=[\"mt\", \"ribo\", \"hb\"], inplace=True, log1p=True\n",
        ")\n",
        "\n",
        "# Inspect new QC columns added to adata.obs (cell-level) and adata.var (gene-level)\n",
        "adata"
      ]
    },
    {
      "cell_type": "markdown",
      "id": "b525671d-cfd3-4989-ad06-91c6edfa3af8",
      "metadata": {
        "id": "b525671d-cfd3-4989-ad06-91c6edfa3af8"
      },
      "source": [
        "One can now inspect violin plots of some of the computed QC metrics:\n",
        "\n",
        "* the number of genes expressed in the count matrix\n",
        "* the total counts per cell\n",
        "* the percentage of counts in mitochondrial genes"
      ]
    },
    {
      "cell_type": "code",
      "execution_count": null,
      "id": "8f8e3e58-a05a-4fd1-ab77-f3b14232dbf8",
      "metadata": {
        "id": "8f8e3e58-a05a-4fd1-ab77-f3b14232dbf8"
      },
      "outputs": [],
      "source": [
        "# Set figure size\n",
        "sc.settings.set_figure_params(figsize=(5, 5))\n",
        "\n",
        "sc.pl.violin(\n",
        "    adata,\n",
        "    [\"n_genes_by_counts\", \"total_counts\", \"pct_counts_mt\"],\n",
        "    jitter=0.4,\n",
        "    multi_panel=True,\n",
        ")"
      ]
    },
    {
      "cell_type": "markdown",
      "id": "7b78eec5-6b08-4d4f-9c54-a3688984b899",
      "metadata": {
        "id": "7b78eec5-6b08-4d4f-9c54-a3688984b899"
      },
      "source": [
        "Additionally, it is useful to consider QC metrics jointly by inspecting a scatter plot colored by `pct_counts_mt`."
      ]
    },
    {
      "cell_type": "code",
      "execution_count": null,
      "id": "6ddfd195-10cd-419d-b984-39bc29dfe56b",
      "metadata": {
        "id": "6ddfd195-10cd-419d-b984-39bc29dfe56b"
      },
      "outputs": [],
      "source": [
        "sc.pl.scatter(adata, \"total_counts\", \"n_genes_by_counts\", color=\"pct_counts_mt\")"
      ]
    },
    {
      "cell_type": "markdown",
      "id": "2de6f565-7a2a-4ff5-a783-9dab32a007a2",
      "metadata": {
        "id": "2de6f565-7a2a-4ff5-a783-9dab32a007a2"
      },
      "source": [
        "## Filter low-quality cells and genes\n",
        "\n",
        "Based on the QC metric plots, one could now remove cells that have too many mitochondrial genes expressed or too many total counts by setting manual or automatic thresholds. However, sometimes what appears to be poor QC metrics can be driven by real biology so we suggest starting with a very permissive filtering strategy and revisiting it at a later point. We therefore now only filter cells with less than 100 genes expressed and genes that are detected in less than 3 cells.\n",
        "\n",
        "Additionally, it is important to note that for datasets with multiple batches, quality control should be performed for each sample individually as quality control thresholds can vary substantially between batches. There are also several batch correction methods offered in scanpy's external API (e.g., bbknn, harmony)."
      ]
    },
    {
      "cell_type": "code",
      "execution_count": null,
      "id": "61508aa7-31f1-403c-96c2-09460427bdae",
      "metadata": {
        "id": "61508aa7-31f1-403c-96c2-09460427bdae"
      },
      "outputs": [],
      "source": [
        "sc.settings.verbosity = 2\n",
        "\n",
        "sc.pp.filter_cells(adata, min_genes=100)\n",
        "sc.pp.filter_genes(adata, min_cells=3)\n",
        "\n",
        "adata"
      ]
    },
    {
      "cell_type": "markdown",
      "id": "31ae375a-5f9d-4ff6-a7b2-52d13d202fa8",
      "metadata": {
        "id": "31ae375a-5f9d-4ff6-a7b2-52d13d202fa8"
      },
      "source": [
        "# Normalization\n",
        "\n",
        "The next preprocessing step is normalization.\n",
        "* Adjusts for differences in sequencing depth between cells\n",
        "* Scales counts so each cell has comparable total gene expression\n",
        "\n",
        "<br>\n",
        "\n",
        "A common approach is count depth scaling with subsequent log plus one (log1p) transformation. Count depth scaling normalizes the data to a “size factor” such as the median count depth in the dataset, ten thousand (CP10k) or one million (CPM, counts per million). The size factor for count depth scaling can be controlled via `target_sum` in `pp.normalize_total`. We are applying median count depth normalization with log1p transformation (AKA log1PF)."
      ]
    },
    {
      "cell_type": "code",
      "execution_count": null,
      "id": "7fe44a18",
      "metadata": {
        "id": "7fe44a18"
      },
      "outputs": [],
      "source": [
        "# Saving raw count data\n",
        "adata.layers[\"counts\"] = adata.X.copy()\n",
        "\n",
        "# Normalizing to median total counts\n",
        "sc.pp.normalize_total(adata)\n",
        "\n",
        "# Logarithmize the data\n",
        "sc.pp.log1p(adata)\n",
        "\n",
        "# Save log-normalized counts\n",
        "adata.layers['log_norm'] = adata.X.copy()\n",
        "\n",
        "adata"
      ]
    },
    {
      "cell_type": "markdown",
      "id": "1f634d44-4e23-4e0f-96c0-443b3a5ffda9",
      "metadata": {
        "id": "1f634d44-4e23-4e0f-96c0-443b3a5ffda9"
      },
      "source": [
        "# Feature selection\n",
        "\n",
        "As a next step, we want to reduce the dimensionality of the dataset and only include the most informative genes. This step is commonly known as feature selection. The scanpy function `pp.highly_variable_genes` annotates highly variable genes by reproducing the implementations of Seurat, Cell Ranger, and Seurat v3 depending on the chosen `flavor`."
      ]
    },
    {
      "cell_type": "code",
      "execution_count": null,
      "id": "6241df3f-a23b-4f06-8c4e-a2de39200f05",
      "metadata": {
        "id": "6241df3f-a23b-4f06-8c4e-a2de39200f05"
      },
      "outputs": [],
      "source": [
        "sc.pp.highly_variable_genes(adata, n_top_genes=2000, batch_key=\"sample\")"
      ]
    },
    {
      "cell_type": "code",
      "execution_count": null,
      "id": "654984e9-e511-4e32-b025-054d41a1aabd",
      "metadata": {
        "id": "654984e9-e511-4e32-b025-054d41a1aabd"
      },
      "outputs": [],
      "source": [
        "sc.pl.highly_variable_genes(adata)"
      ]
    },
    {
      "cell_type": "markdown",
      "id": "fe4e74b2-c177-47d1-b659-041e8b796231",
      "metadata": {
        "id": "fe4e74b2-c177-47d1-b659-041e8b796231"
      },
      "source": [
        "# Dimensionality Reduction\n",
        "Reduce the dimensionality of the data by running principal component analysis (PCA), which reveals the main axes of variation and denoises the data."
      ]
    },
    {
      "cell_type": "code",
      "execution_count": null,
      "id": "5a4d36d8-3238-47a5-8950-049fd0473205",
      "metadata": {
        "id": "5a4d36d8-3238-47a5-8950-049fd0473205"
      },
      "outputs": [],
      "source": [
        "sc.tl.pca(adata)"
      ]
    },
    {
      "cell_type": "markdown",
      "id": "bb54e365-3989-432e-bce0-b0a8e46ac08c",
      "metadata": {
        "id": "bb54e365-3989-432e-bce0-b0a8e46ac08c"
      },
      "source": [
        "Let us inspect the contribution of single PCs to the total variance in the data. This gives us information about how many PCs we should consider in order to compute the neighborhood relations of cells, e.g. used in the clustering function `scanpy.tl.leiden` or `scanpy.tl.tsne`. In our experience, there does not seem to be signifigant downside to overestimating the numer of principal components."
      ]
    },
    {
      "cell_type": "code",
      "execution_count": null,
      "id": "b38f1a27-6c1b-4160-b28e-e172bb325d4d",
      "metadata": {
        "id": "b38f1a27-6c1b-4160-b28e-e172bb325d4d"
      },
      "outputs": [],
      "source": [
        "sc.pl.pca_variance_ratio(adata)"
      ]
    },
    {
      "cell_type": "markdown",
      "id": "fa711f1f",
      "metadata": {
        "id": "fa711f1f"
      },
      "source": [
        "You can also plot the principal components to see if there are any potentially undesired features (e.g. batch, QC metrics) driving signifigant variation in this dataset. In this case, there isn't anything too alarming, but it's a good idea to explore this."
      ]
    },
    {
      "cell_type": "code",
      "execution_count": null,
      "id": "58f92649",
      "metadata": {
        "id": "58f92649"
      },
      "outputs": [],
      "source": [
        "sc.pl.pca(\n",
        "    adata,\n",
        "    color=[\"sample\", \"sample\", \"pct_counts_mt\", \"pct_counts_mt\"],\n",
        "    dimensions=[(0, 1), (2, 3), (0, 1), (2, 3)],\n",
        "    ncols=2,\n",
        "    size=2,\n",
        ")"
      ]
    },
    {
      "cell_type": "markdown",
      "id": "27147fca-c120-468d-8a5c-6479ece27848",
      "metadata": {
        "id": "27147fca-c120-468d-8a5c-6479ece27848"
      },
      "source": [
        "# Nearest neighbor graph constuction and visualization\n",
        "\n",
        "Let us compute the neighborhood graph of cells using the PCA representation of the data matrix."
      ]
    },
    {
      "cell_type": "code",
      "execution_count": null,
      "id": "ce3adfa7-0be0-4232-88fa-e0540c5c3319",
      "metadata": {
        "id": "ce3adfa7-0be0-4232-88fa-e0540c5c3319"
      },
      "outputs": [],
      "source": [
        "sc.pp.neighbors(adata)"
      ]
    },
    {
      "cell_type": "markdown",
      "id": "5a0f7719-e418-401a-b006-c1eb524d7a2e",
      "metadata": {
        "id": "5a0f7719-e418-401a-b006-c1eb524d7a2e"
      },
      "source": [
        "This graph can then be embedded in two dimensions for visualiztion with UMAP (McInnes et al., 2018):"
      ]
    },
    {
      "cell_type": "code",
      "execution_count": null,
      "id": "0d0151a0-ce62-40e6-ba1b-2f4505b6b4b4",
      "metadata": {
        "id": "0d0151a0-ce62-40e6-ba1b-2f4505b6b4b4"
      },
      "outputs": [],
      "source": [
        "sc.tl.umap(adata)"
      ]
    },
    {
      "cell_type": "markdown",
      "id": "857f818f-66c7-40c7-b834-47cf5f02a1fa",
      "metadata": {
        "id": "857f818f-66c7-40c7-b834-47cf5f02a1fa"
      },
      "source": [
        "We can now visualize the UMAP according to the `sample`."
      ]
    },
    {
      "cell_type": "code",
      "execution_count": null,
      "id": "74aba38e-9c07-484b-a222-5f2ec108e7b2",
      "metadata": {
        "id": "74aba38e-9c07-484b-a222-5f2ec108e7b2"
      },
      "outputs": [],
      "source": [
        "sc.pl.umap(\n",
        "    adata,\n",
        "    color=\"sample\",\n",
        "    size=4,\n",
        ")"
      ]
    },
    {
      "cell_type": "markdown",
      "id": "6d472937-b5b8-4d38-88d5-2af4d0718f1e",
      "metadata": {
        "id": "6d472937-b5b8-4d38-88d5-2af4d0718f1e"
      },
      "source": [
        "Even though the data considered in this tutorial includes two different samples, we only observe a minor batch effect and we can continue with clustering and annotation of our data.\n",
        "\n",
        "If you inspect batch effects in your UMAP it can be beneficial to integrate across samples and perform batch correction/integration. We recommend checking out [`scanorama`](https://github.com/brianhie/scanorama) and [`scvi-tools`](https://scvi-tools.org) for batch integration."
      ]
    },
    {
      "cell_type": "markdown",
      "id": "358da4af-c7ed-4479-87a7-ecd9d9765e1a",
      "metadata": {
        "id": "358da4af-c7ed-4479-87a7-ecd9d9765e1a"
      },
      "source": [
        "# Clustering\n",
        "\n",
        "As with Seurat and many other frameworks, we recommend the Leiden graph-clustering method (community detection based on optimizing modularity) [Traag2019](https://doi.org/10.1038/s41598-019-41695-z). Note that Leiden clustering directly clusters the neighborhood graph of cells, which we already computed in the previous section."
      ]
    },
    {
      "cell_type": "code",
      "execution_count": null,
      "id": "11bb19be-3df1-4a17-ad84-16b50a9348ea",
      "metadata": {
        "id": "11bb19be-3df1-4a17-ad84-16b50a9348ea"
      },
      "outputs": [],
      "source": [
        "# Using the igraph implementation and a fixed number of iterations can be significantly faster, especially for larger datasets\n",
        "sc.tl.leiden(\n",
        "    adata,\n",
        "    flavor=\"igraph\",\n",
        "    n_iterations=5,\n",
        "    resolution=1, # controls 'coarseness' of clustering; higher values = more clusters; 1 is the default\n",
        ")"
      ]
    },
    {
      "cell_type": "code",
      "execution_count": null,
      "id": "e616f3f6-69f8-4c66-ac00-48d328dcf755",
      "metadata": {
        "id": "e616f3f6-69f8-4c66-ac00-48d328dcf755"
      },
      "outputs": [],
      "source": [
        "sc.pl.umap(adata, color=[\"leiden\"])"
      ]
    },
    {
      "cell_type": "markdown",
      "id": "7d7410a1-333a-4f21-b53e-91af768b07c7",
      "metadata": {
        "id": "7d7410a1-333a-4f21-b53e-91af768b07c7"
      },
      "source": [
        "# Re-assess quality control and cell filtering\n",
        "\n",
        "As indicated before, we will now re-assess our filtering strategy by visualizing different QC metrics using UMAP."
      ]
    },
    {
      "cell_type": "code",
      "execution_count": null,
      "id": "91ad2b94-ab9b-48a3-aa0c-551203d3cf91",
      "metadata": {
        "id": "91ad2b94-ab9b-48a3-aa0c-551203d3cf91"
      },
      "outputs": [],
      "source": [
        "sc.pl.umap(\n",
        "    adata,\n",
        "    color=[\"leiden\", \"log1p_total_counts\", \"pct_counts_mt\", \"log1p_n_genes_by_counts\"],\n",
        "    wspace=0.5,\n",
        "    ncols=2,\n",
        ")"
      ]
    },
    {
      "cell_type": "markdown",
      "id": "dece397a-e473-4633-b552-a7e430095c10",
      "metadata": {
        "tags": [],
        "id": "dece397a-e473-4633-b552-a7e430095c10"
      },
      "source": [
        "# Manual cell-type annotation"
      ]
    },
    {
      "cell_type": "markdown",
      "id": "d5e54a09",
      "metadata": {
        "id": "d5e54a09"
      },
      "source": [
        ":::{note}\n",
        "This section of the tutorial is expanded upon using prior knowledge resources like automated assignment and gene enrichment in the scverse tutorial [here](https://scverse-tutorials.readthedocs.io/en/latest/notebooks/basic-scrna-tutorial.html#cell-type-annotation)\n",
        ":::"
      ]
    },
    {
      "cell_type": "markdown",
      "id": "1ff5d831",
      "metadata": {
        "id": "1ff5d831"
      },
      "source": [
        "Cell type annotation is laborous and repetitive task, one which typically requires multiple rounds of subclustering and re-annotation. It's difficult to show the entirety of the process in this tutorial, but we aim to show how the tools scanpy provides assist in this process."
      ]
    },
    {
      "cell_type": "markdown",
      "id": "fc966c08-e87e-499a-9a9e-db40b243deb9",
      "metadata": {
        "id": "fc966c08-e87e-499a-9a9e-db40b243deb9"
      },
      "source": [
        "We have now reached a point where we have obtained a set of cells with decent quality, and we can proceed to their annotation to known cell types. Typically, this is done using genes that are exclusively expressed by a given cell type, or in other words these genes are the marker genes of the cell types, and are thus used to distinguish the heterogeneous groups of cells in our data. Previous efforts have collected and curated various marker genes into available resources, such as [CellMarker](http://bio-bigdata.hrbmu.edu.cn/CellMarker/), [TF-Marker](http://bio.liclab.net/TF-Marker/), and [PanglaoDB](https://panglaodb.se/). The [cellxgene gene expression tool](https://cellxgene.cziscience.com/gene-expression) can also be quite useful to see which cell types a gene has been expressed in across many existing datasets."
      ]
    },
    {
      "cell_type": "markdown",
      "id": "f6bc8b4d-dd05-41c2-befd-048a5eea6afd",
      "metadata": {
        "id": "f6bc8b4d-dd05-41c2-befd-048a5eea6afd"
      },
      "source": [
        "Commonly and classically, cell type annotation uses those marker genes subsequent to the grouping of the cells into clusters. So, let's generate a set of clustering solutions which we can then use to annotate our cell types. Here, we will use the Leiden clustering algorithm which will extract cell communities from our nearest neighbours graph."
      ]
    },
    {
      "cell_type": "code",
      "execution_count": null,
      "id": "148a1050-a073-4d82-b568-3cb943f9fd34",
      "metadata": {
        "id": "148a1050-a073-4d82-b568-3cb943f9fd34"
      },
      "outputs": [],
      "source": [
        "for res in [0.02, 0.5, 2.0]:\n",
        "    sc.tl.leiden(\n",
        "        adata, key_added=f\"leiden_res_{res:4.2f}\", resolution=res, flavor=\"igraph\"\n",
        "    )"
      ]
    },
    {
      "cell_type": "markdown",
      "id": "dbffb2d3-e8fe-4bfb-aa8a-8d490254dcb1",
      "metadata": {
        "id": "dbffb2d3-e8fe-4bfb-aa8a-8d490254dcb1"
      },
      "source": [
        "Notably, the number of clusters that we define is largely arbitrary, and so is the `resolution` parameter that we use to control for it. As such, the number of clusters is ultimately bound to the stable and biologically-meaningful groups that we can ultimately distringuish, typically done by experts in the corresponding field or by using expert-curated prior knowledge in the form of markers."
      ]
    },
    {
      "cell_type": "code",
      "execution_count": null,
      "id": "b1275cb4-9f1e-4f37-8c90-eb5d0abd679c",
      "metadata": {
        "id": "b1275cb4-9f1e-4f37-8c90-eb5d0abd679c"
      },
      "outputs": [],
      "source": [
        "sc.pl.umap(\n",
        "    adata,\n",
        "    color=[\"leiden_res_0.02\", \"leiden_res_0.50\", \"leiden_res_2.00\"],\n",
        "    legend_loc=\"on data\",\n",
        ")"
      ]
    },
    {
      "cell_type": "markdown",
      "id": "c5ca6a0e-c46c-4b7d-859f-e9c971f05d5a",
      "metadata": {
        "id": "c5ca6a0e-c46c-4b7d-859f-e9c971f05d5a"
      },
      "source": [
        "Though UMAPs should not be over-interpreted, here we can already see that in the highest resolution our data is over-clustered, while the lowest resolution is likely grouping cells which belong to distinct cell identities."
      ]
    },
    {
      "cell_type": "markdown",
      "id": "d7cac979-c45d-4639-ac0a-18f85aa383e1",
      "metadata": {
        "id": "d7cac979-c45d-4639-ac0a-18f85aa383e1"
      },
      "source": [
        "## Marker gene set"
      ]
    },
    {
      "cell_type": "markdown",
      "id": "fbc891a7-e0e8-45e8-97d9-46eb74f55cde",
      "metadata": {
        "id": "fbc891a7-e0e8-45e8-97d9-46eb74f55cde"
      },
      "source": [
        "Let's define a set of marker genes for the main cell types that we expect to see in this dataset. These were adapted from [Single Cell Best Practices annotation chapter](https://www.sc-best-practices.org/cellular_structure/annotation.html), for a more detailed overview and best practices in cell type annotation, we refer the user to it."
      ]
    },
    {
      "cell_type": "code",
      "execution_count": null,
      "id": "c4b1f83e-c4e2-48e4-954f-72abac5b5b21",
      "metadata": {
        "id": "c4b1f83e-c4e2-48e4-954f-72abac5b5b21"
      },
      "outputs": [],
      "source": [
        "marker_genes = {\n",
        "    ### Monocytes\n",
        "    \"CD14+ Mono\": [\"FCN1\", \"CD14\"],\n",
        "    \"CD16+ Mono\": [\"TCF7L2\", \"FCGR3A\", \"LYN\"],\n",
        "\n",
        "    ### Dendritic cells\n",
        "    \"cDC2\": [\"CST3\", \"COTL1\", \"LYZ\", \"DMXL2\", \"CLEC10A\", \"FCER1A\"], # Note: DMXL2 should be negative\n",
        "    \"pDC\": [\"GZMB\", \"IL3RA\", \"COBLL1\", \"TCF4\"],\n",
        "\n",
        "    ### Erythroid lineage\n",
        "    \"Erythroblast\": [\"MKI67\", \"HBA1\", \"HBB\"],\n",
        "    \"Proerythroblast\": [\"CDK6\", \"SYNGR1\", \"HBM\", \"GYPA\"], # Note HBM and GYPA are negative markers\n",
        "\n",
        "    ### Innate lymphoid cells\n",
        "    \"NK\": [\"GNLY\", \"NKG7\", \"CD247\", \"FCER1G\", \"TYROBP\", \"KLRG1\", \"FCGR3A\"],\n",
        "    \"ILC\": [\"ID2\", \"PLCG2\", \"GNLY\", \"SYNE1\"],\n",
        "\n",
        "    ### B cells\n",
        "    \"Naive CD20+ B\": [\"MS4A1\", \"IL4R\", \"IGHD\", \"FCRL1\", \"IGHM\"], # Note IGHD and IGHM are negative markers\n",
        "    \"B cells\": [\n",
        "        \"MS4A1\",\n",
        "        \"ITGB1\",\n",
        "        \"COL4A4\",\n",
        "        \"PRDM1\",\n",
        "        \"IRF4\",\n",
        "        \"PAX5\",\n",
        "        \"BCL11A\",\n",
        "        \"BLK\",\n",
        "        \"IGHD\",\n",
        "        \"IGHM\",\n",
        "    ],\n",
        "    \"Plasma cells\": [\"MZB1\", \"HSP90B1\", \"FNDC3B\", \"PRDM1\", \"IGKC\", \"JCHAIN\"],\n",
        "    \"Plasmablast\": [\"XBP1\", \"PRDM1\", \"PAX5\"], # Note PAX5 is a negative marker\n",
        "\n",
        "    ### T cells\n",
        "    \"CD4+ T\": [\"CD4\", \"IL7R\", \"TRBC2\"],\n",
        "    \"CD8+ T\": [\"CD8A\", \"CD8B\", \"GZMK\", \"GZMA\", \"CCL5\", \"GZMB\", \"GZMH\", \"GZMA\"],\n",
        "    \"T naive\": [\"LEF1\", \"CCR7\", \"TCF7\"],\n",
        "\n",
        "}"
      ]
    },
    {
      "cell_type": "code",
      "execution_count": null,
      "id": "96995645-6024-4663-ad45-79e7e3aaea1a",
      "metadata": {
        "id": "96995645-6024-4663-ad45-79e7e3aaea1a"
      },
      "outputs": [],
      "source": [
        "sc.pl.dotplot(adata, marker_genes, groupby=\"leiden_res_0.02\", standard_scale=\"var\")"
      ]
    },
    {
      "cell_type": "markdown",
      "id": "e90fcd55",
      "metadata": {
        "id": "e90fcd55"
      },
      "source": [
        "There are fairly clear patterns of expression for our markers show here, which we can use to label our coarsest clustering with broad lineages."
      ]
    },
    {
      "cell_type": "code",
      "execution_count": null,
      "id": "45b3f608",
      "metadata": {
        "id": "45b3f608"
      },
      "outputs": [],
      "source": [
        "adata.obs[\"cell_type_lvl1\"] = adata.obs[\"leiden_res_0.02\"].map(\n",
        "    {\n",
        "        \"0\": \"Lymphocytes\", # includes T cells\n",
        "        \"1\": \"Monocytes\",\n",
        "        \"2\": \"B cells\",\n",
        "        \"3\": \"Erythroid\",\n",
        "    }\n",
        ")"
      ]
    },
    {
      "cell_type": "code",
      "execution_count": null,
      "id": "a49acdff-5606-4979-b08f-e6e314b782a1",
      "metadata": {
        "id": "a49acdff-5606-4979-b08f-e6e314b782a1"
      },
      "outputs": [],
      "source": [
        "sc.pl.dotplot(adata, marker_genes, groupby=\"leiden_res_0.50\", standard_scale=\"var\", dendrogram=True)"
      ]
    },
    {
      "cell_type": "code",
      "source": [
        "sc.pl.umap(\n",
        "    adata,\n",
        "    color=['CD8A', 'JCHAIN', 'GNLY', 'CCR7'],\n",
        "    layer='log_norm',\n",
        "    ncols=2,\n",
        "    size=10,\n",
        "    title=['CD8A (CD8+ T)', 'JCHAIN (plasma cells)', 'GNLY (lymphoid)', 'CCR7 (naive T)']\n",
        ")"
      ],
      "metadata": {
        "id": "rg0RG3CmFguC"
      },
      "id": "rg0RG3CmFguC",
      "execution_count": null,
      "outputs": []
    },
    {
      "cell_type": "markdown",
      "id": "3f6b34f4-2c5f-48ba-8b59-d0838ac1bfa3",
      "metadata": {
        "id": "3f6b34f4-2c5f-48ba-8b59-d0838ac1bfa3"
      },
      "source": [
        "This seems like a resolution that suitable to distinguish most of the different cell types in our data. As such, let's try to annotate those by manually using the dotplot above, together with the UMAP of our clusters. Ideally, one would also look specifically into each cluster, and attempt to subcluster those if required."
      ]
    },
    {
      "cell_type": "markdown",
      "id": "b904fd57-ae61-4cfa-acae-82fc36631179",
      "metadata": {
        "id": "b904fd57-ae61-4cfa-acae-82fc36631179"
      },
      "source": [
        "## Differentially-expressed Genes as Markers"
      ]
    },
    {
      "cell_type": "markdown",
      "id": "0578a42c-c43b-484e-8a82-3b9ed188b94c",
      "metadata": {
        "id": "0578a42c-c43b-484e-8a82-3b9ed188b94c"
      },
      "source": [
        "Furthermore, one can also calculate marker genes per cluster and then look up whether we can link those marker genes to any known biology, such as cell types and/or states. This is typically done using simple statistical tests, such as Wilcoxon and t-test, for each cluster vs the rest."
      ]
    },
    {
      "cell_type": "code",
      "execution_count": null,
      "id": "6b69a65c-199f-4883-9037-1df388b06861",
      "metadata": {
        "id": "6b69a65c-199f-4883-9037-1df388b06861"
      },
      "outputs": [],
      "source": [
        "# Obtain cluster-specific differentially expressed genes\n",
        "sc.tl.rank_genes_groups(\n",
        "    adata,\n",
        "    groupby=\"leiden_res_0.50\",\n",
        "    method=\"wilcoxon\",\n",
        ")"
      ]
    },
    {
      "cell_type": "markdown",
      "id": "243b74f5-dd51-457d-9715-b9a0ccbfff4a",
      "metadata": {
        "id": "243b74f5-dd51-457d-9715-b9a0ccbfff4a"
      },
      "source": [
        "We can then visualize the top 5 differentially-expressed genes on a dotplot."
      ]
    },
    {
      "cell_type": "code",
      "execution_count": null,
      "id": "adf45dad-5f3d-465b-acd7-aa4f8bc42f65",
      "metadata": {
        "id": "adf45dad-5f3d-465b-acd7-aa4f8bc42f65"
      },
      "outputs": [],
      "source": [
        "sc.pl.rank_genes_groups_dotplot(\n",
        "    adata,\n",
        "    groupby=\"leiden_res_0.50\",\n",
        "    standard_scale=\"var\",\n",
        "    n_genes=5,\n",
        ")"
      ]
    },
    {
      "cell_type": "markdown",
      "id": "ee9b9e00",
      "metadata": {
        "id": "ee9b9e00"
      },
      "source": [
        "We can then use these genes to figure out what cell types we're looking at. For example, Cluster 9 is expressing [*NKG7*](https://www.genecards.org/cgi-bin/carddisp.pl?gene=NKG7&keywords=nkg7) and [*GNLY*](https://www.genecards.org/cgi-bin/carddisp.pl?gene=GNLY&keywords=GNLY), suggesting these are [NK cells](https://en.wikipedia.org/wiki/Natural_killer_cell)."
      ]
    },
    {
      "cell_type": "markdown",
      "id": "2dd5c7fc",
      "metadata": {
        "id": "2dd5c7fc"
      },
      "source": [
        "To create your own plots, or use a more automated approach, the differentially expressed genes can be extracted in a convenient format with `scanpy.get.rank_genes_groups_df`"
      ]
    },
    {
      "cell_type": "code",
      "execution_count": null,
      "id": "8fbf24a8",
      "metadata": {
        "id": "8fbf24a8"
      },
      "outputs": [],
      "source": [
        "sc.get.rank_genes_groups_df(adata, group=\"9\").head(5)"
      ]
    },
    {
      "cell_type": "code",
      "execution_count": null,
      "id": "ef390e87",
      "metadata": {
        "id": "ef390e87"
      },
      "outputs": [],
      "source": [
        "dc_cluster_genes = sc.get.rank_genes_groups_df(adata, group=\"9\").head(5)[\"names\"]\n",
        "sc.pl.umap(\n",
        "    adata,\n",
        "    color=[*dc_cluster_genes, \"leiden_res_0.50\"],\n",
        "    legend_loc=\"on data\",\n",
        "    frameon=False,\n",
        "    ncols=3,\n",
        ")"
      ]
    },
    {
      "cell_type": "markdown",
      "id": "789cdf32",
      "metadata": {
        "id": "789cdf32"
      },
      "source": [
        "You may have noticed that the p-values found here are extremely low. This is due to the statistical test being performed considering each cell as an independent sample. For a more conservative approach you may want to consider \"pseudo-bulking\" your data by sample (*e.g.* `sc.get.aggregate(adata, by=[\"sample\", \"cell_type\"], func=\"sum\", layer=\"counts\")`) and using a more powerful differential expression tool, like [`pydeseq2`](https://pydeseq2.readthedocs.io/)."
      ]
    }
  ],
  "metadata": {
    "kernelspec": {
      "display_name": "Python 3 (ipykernel)",
      "language": "python",
      "name": "python3"
    },
    "language_info": {
      "codemirror_mode": {
        "name": "ipython",
        "version": 3
      },
      "file_extension": ".py",
      "mimetype": "text/x-python",
      "name": "python",
      "nbconvert_exporter": "python",
      "pygments_lexer": "ipython3",
      "version": "3.11.8"
    },
    "mystnb": {
      "execution_mode": "off"
    },
    "colab": {
      "provenance": []
    }
  },
  "nbformat": 4,
  "nbformat_minor": 5
}