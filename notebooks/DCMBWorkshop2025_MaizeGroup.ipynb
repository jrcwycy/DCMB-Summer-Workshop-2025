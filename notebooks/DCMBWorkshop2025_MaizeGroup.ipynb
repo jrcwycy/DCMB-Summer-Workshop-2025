{
  "cells": [
    {
      "cell_type": "markdown",
      "source": [
        "#**Intermediate Bioinformatics Exercise** — Single-cell transcriptomics\n",
        "\n",
        "\n",
        "Today, we will go through a standard analysis workflow for single-cell RNA-sequencing (scRNA-seq) data using [scanpy](https://scanpy.readthedocs.io/en/stable/index.html), a powerful and scalable Python library for single-cell analysis.  \n",
        "<br>\n",
        "\n",
        "You'll learn how to:\n",
        "* Work with [AnnData](https://anndata.readthedocs.io/en/stable/) objects\n",
        "* Load and explore scRNA-seq datasets in Python\n",
        "* Perform standard preprocessing steps (e.g., filtering cells/genes, normalization, log transformation, dimensionality reduction)\n",
        "* Compute and visualize neighborhood graphs and UMAP embeddings\n",
        "* Apply clustering algorithms and annotate cell populations\n",
        "\n",
        "\n",
        "<!-- *   Quality control\n",
        "*   Normalization\n",
        "*   Dimensionality reduction (feature selection and PCA)\n",
        "*   UMAP visualization\n",
        "*   Clustering\n",
        "*   Cell-type annotation -->\n",
        "\n",
        "<br>\n",
        "\n",
        "An expanded version of this tutorial is available [here](https://scanpy.readthedocs.io/en/stable/tutorials/basics/clustering.html).\n",
        "\n",
        "---"
      ],
      "metadata": {
        "id": "kGM4P21nBu9G"
      },
      "id": "kGM4P21nBu9G"
    },
    {
      "cell_type": "markdown",
      "id": "404b48be-6e11-4539-8524-4213162d909c",
      "metadata": {
        "id": "404b48be-6e11-4539-8524-4213162d909c"
      },
      "source": [
        "# Imports"
      ]
    },
    {
      "cell_type": "code",
      "execution_count": null,
      "id": "f1990713-5968-4fc7-aeb6-5a842606fd8c",
      "metadata": {
        "id": "f1990713-5968-4fc7-aeb6-5a842606fd8c",
        "collapsed": true
      },
      "outputs": [],
      "source": [
        "# Core scverse libraries\n",
        "!pip install scanpy\n",
        "!pip install anndata\n",
        "!pip install pooch\n",
        "!pip install igraph\n",
        "!pip install gseapy\n",
        "\n",
        "import scanpy as sc\n",
        "import anndata as ad\n",
        "import pooch\n",
        "import pandas as pd\n",
        "from gseapy.parser import download_library\n",
        "\n",
        "# plotting parameters\n",
        "sc.settings.set_figure_params(dpi=150, facecolor=\"white\")\n",
        "\n",
        "sc.settings.verbosity = 2\n",
        "\n",
        "import warnings\n",
        "warnings.filterwarnings(\"ignore\", message=\".*names are not unique.*\")"
      ]
    },
    {
      "cell_type": "markdown",
      "source": [
        "# Load in the data"
      ],
      "metadata": {
        "id": "e2_e-unrOQwu"
      },
      "id": "e2_e-unrOQwu"
    },
    {
      "cell_type": "markdown",
      "id": "3211b168-0575-43fa-945c-405ee9438098",
      "metadata": {
        "id": "3211b168-0575-43fa-945c-405ee9438098"
      },
      "source": [
        "The data used in this tutorial was collected from bone marrow mononuclear cells of healthy human donors from [Luecken et al. 2021](https://datasets-benchmarks-proceedings.neurips.cc/paper_files/paper/2021/file/158f3069a435b314a80bdcb024f8e422-Paper-round2.pdf).\n",
        "\n",
        "\n",
        "We are reading in the count matrix into an [AnnData](https://anndata.readthedocs.io/en/latest/tutorials/notebooks/getting-started.html) object, which holds many slots for annotations and different representations of the data."
      ]
    },
    {
      "cell_type": "code",
      "execution_count": null,
      "id": "9bdf7f10-e9b9-4929-a7e2-7ac373d769d1",
      "metadata": {
        "id": "9bdf7f10-e9b9-4929-a7e2-7ac373d769d1"
      },
      "outputs": [],
      "source": [
        "EXAMPLE_DATA = pooch.create(\n",
        "    path=pooch.os_cache(\"scverse_tutorials\"),\n",
        "    base_url=\"doi:10.6084/m9.figshare.22716739.v1/\",\n",
        ")\n",
        "EXAMPLE_DATA.load_registry_from_doi()\n",
        "\n",
        "\n",
        "\n",
        "# We are loading in 2 samples, each from a different donor\n",
        "samples = {\n",
        "    \"s1d1\": \"s1d1_filtered_feature_bc_matrix.h5\",\n",
        "    \"s1d3\": \"s1d3_filtered_feature_bc_matrix.h5\",\n",
        "}\n",
        "adatas = {}\n",
        "\n",
        "for sample_id, filename in samples.items():\n",
        "    path = EXAMPLE_DATA.fetch(filename)\n",
        "    sample_adata = sc.read_10x_h5(path)\n",
        "    sample_adata.var_names_make_unique()\n",
        "    adatas[sample_id] = sample_adata\n",
        "\n",
        "adata = ad.concat(adatas, label=\"sample\")\n",
        "adata.obs_names_make_unique() # ensures cell barcodes are unique\n",
        "\n",
        "print(\"\\nFinished loading samples.\\n\")\n",
        "adata"
      ]
    },
    {
      "cell_type": "code",
      "source": [
        "print(f\"Total number of cells: {adata.n_obs}\\n\")\n",
        "print(f\"Cells per sample:\\n{adata.obs['sample'].value_counts()}\\n\")\n",
        "\n",
        "adata.obs.head()"
      ],
      "metadata": {
        "id": "9Iwi7wMxOx7U"
      },
      "id": "9Iwi7wMxOx7U",
      "execution_count": null,
      "outputs": []
    },
    {
      "cell_type": "code",
      "source": [
        "print(f\"Total number of genes: {adata.n_vars}\\n\")\n",
        "\n",
        "adata.var.head()"
      ],
      "metadata": {
        "id": "4PHHChySO3As"
      },
      "id": "4PHHChySO3As",
      "execution_count": null,
      "outputs": []
    },
    {
      "cell_type": "markdown",
      "source": [
        "# Preprocessing\n",
        "\n",
        "The following code block groups together the standard preprocessing steps for scRNA-seq data, including:\n",
        "* Quality control\n",
        "* Cell and gene filtering\n",
        "* Data normalization\n",
        "* Dimensionality reduction (feature selection and PCA)\n",
        "\n",
        "Each step typically requires optimization depending on the specific dataset. For the purposes of today's breakout session, we perform all steps below and move on to data visualization and cell type annotation.\n",
        "\n",
        "Example plots to evaluate preprocessing parameters are included if you wish to explore further."
      ],
      "metadata": {
        "id": "bIoj1Uo6vthM"
      },
      "id": "bIoj1Uo6vthM"
    },
    {
      "cell_type": "code",
      "source": [
        "### ----- Quality Control -----\n",
        "\n",
        "adata.var[\"mt\"] = adata.var_names.str.startswith(\"MT-\") # mitochondrial genes, \"MT-\" for human, \"Mt-\" for mouse\n",
        "adata.var[\"ribo\"] = adata.var_names.str.startswith((\"RPS\", \"RPL\")) # ribosomal genes\n",
        "adata.var[\"hb\"] = adata.var_names.str.contains(\"^HB[^(P)]\") # hemoglobin genes\n",
        "\n",
        "sc.pp.calculate_qc_metrics(\n",
        "    adata, qc_vars=[\"mt\", \"ribo\", \"hb\"], inplace=True, log1p=True\n",
        ")\n",
        "\n",
        "# # QC plot example\n",
        "# sc.pl.violin(\n",
        "#     adata,\n",
        "#     [\"n_genes_by_counts\", \"total_counts\", \"pct_counts_mt\"],\n",
        "#     jitter=0.4,\n",
        "#     multi_panel=True,\n",
        "# )\n",
        "\n",
        "\n",
        "\n",
        "### ----- Cell and Gene Filtering -----\n",
        "\n",
        "sc.pp.filter_cells(adata, min_genes=100)\n",
        "sc.pp.filter_genes(adata, min_cells=3)\n",
        "\n",
        "\n",
        "\n",
        "### ----- Normalization -----\n",
        "\n",
        "# Saving raw count data\n",
        "adata.layers[\"counts\"] = adata.X.copy()\n",
        "\n",
        "# Normalizing to median total counts\n",
        "sc.pp.normalize_total(adata)\n",
        "\n",
        "# Logarithmize the data\n",
        "sc.pp.log1p(adata)\n",
        "\n",
        "# Save log-normalized counts\n",
        "adata.layers['log_norm'] = adata.X.copy()\n",
        "\n",
        "\n",
        "\n",
        "### ----- Dimensionality Reduction -----\n",
        "\n",
        "# Feature selection\n",
        "sc.pp.highly_variable_genes(adata, n_top_genes=2000, batch_key=\"sample\")\n",
        "\n",
        "# sc.pl.highly_variable_genes(adata)\n",
        "\n",
        "# PCA\n",
        "sc.tl.pca(adata)\n",
        "\n",
        "# sc.pl.pca(\n",
        "#     adata,\n",
        "#     color=[\"sample\", \"sample\", \"pct_counts_mt\", \"pct_counts_mt\"],\n",
        "#     dimensions=[(0, 1), (2, 3), (0, 1), (2, 3)],\n",
        "#     ncols=2,\n",
        "#     size=2,\n",
        "# )\n",
        "\n",
        "\n",
        "# Inspect new columns added to adata.obs (cell-level) and adata.var (gene-level)\n",
        "print(f\"\\n{adata}\")"
      ],
      "metadata": {
        "id": "nzFnqxBnu-yS"
      },
      "id": "nzFnqxBnu-yS",
      "execution_count": null,
      "outputs": []
    },
    {
      "cell_type": "markdown",
      "source": [
        "# Nearest neighbor graph and UMAP\n",
        "\n",
        "Now that we have preprocessed our dataset, we will compute nearest neighbors using the PCA representation of the data and embed the neighbors graph in 2 dimensions with UMAP."
      ],
      "metadata": {
        "id": "-6kzvJNnytQN"
      },
      "id": "-6kzvJNnytQN"
    },
    {
      "cell_type": "code",
      "source": [
        "### ----- UMAP Visualization -----\n",
        "\n",
        "# Compute nearest neighbors\n",
        "sc.pp.neighbors(adata)\n",
        "\n",
        "# Embed neighbors graph in 2D with UMAP\n",
        "sc.tl.umap(adata)\n",
        "\n",
        "# Plot UMAP\n",
        "sc.settings.set_figure_params(figsize=(5, 5))\n",
        "\n",
        "sc.pl.umap(\n",
        "    adata,\n",
        "    color=\"sample\", # can use any .obs or .var column\n",
        "    size=5,\n",
        ")"
      ],
      "metadata": {
        "id": "mhODzmQGxG9q"
      },
      "id": "mhODzmQGxG9q",
      "execution_count": null,
      "outputs": []
    },
    {
      "cell_type": "markdown",
      "id": "358da4af-c7ed-4479-87a7-ecd9d9765e1a",
      "metadata": {
        "id": "358da4af-c7ed-4479-87a7-ecd9d9765e1a"
      },
      "source": [
        "# Clustering\n",
        "\n",
        "After visualizing cells in a UMAP plot, the next step is **clustering**, which groups cells based on their gene expression profiles. Cells with similar gene expression will be clustered together, helping to identify distinct cell types or states within a mixed population. These clusters can then be annotated to assign likely cell types.\n",
        "\n",
        "<br>\n",
        "\n",
        "Here, we use the **Leiden graph-clustering method** (community detection based on optimizing modularity) which directly clusters the neighbor graph of cells that we computed in the previous section. The `resolution` parameter controls the coarseness of clustering, where higher values result in more clusters. We start with a low resultion to explore broad cell types.\n"
      ]
    },
    {
      "cell_type": "code",
      "execution_count": null,
      "id": "11bb19be-3df1-4a17-ad84-16b50a9348ea",
      "metadata": {
        "id": "11bb19be-3df1-4a17-ad84-16b50a9348ea"
      },
      "outputs": [],
      "source": [
        "sc.tl.leiden(\n",
        "    adata,\n",
        "    flavor=\"igraph\",\n",
        "    n_iterations=5,\n",
        "    resolution=0.02, # default = 1\n",
        ")\n",
        "\n",
        "# Inspect clusters in UMAP\n",
        "sc.pl.umap(\n",
        "    adata,\n",
        "    size=15,\n",
        "    color=[\"leiden\"],\n",
        "    palette='tab10',\n",
        "    legend_loc='on data',\n",
        "    legend_fontoutline=2,\n",
        "    title=\"leiden (res=0.02)\",\n",
        ")"
      ]
    },
    {
      "cell_type": "markdown",
      "source": [
        "# Cell-Type Annotation\n",
        "\n",
        "We will now annotate our clusters to known cell types. This is typically done using known marker genes for the cells in our data (i.e., genes that are exclusively expressed by a given cell type).\n",
        "\n",
        "Several databases/resources exist containing cell-type specific marker genes:\n",
        "* [CellMarker](http://bio-bigdata.hrbmu.edu.cn/CellMarker/)\n",
        "* [TF-Marker](http://bio.liclab.net/TF-Marker/)\n",
        "* [PanglaoDB](https://panglaodb.se/)\n",
        "\n",
        "Below, we have curated a list of relevent cell types and marker genes for today's breakout session. We will start with broad lineage markers.\n",
        "\n",
        "\n"
      ],
      "metadata": {
        "id": "mDBKDW1J4ErG"
      },
      "id": "mDBKDW1J4ErG"
    },
    {
      "cell_type": "code",
      "source": [
        "lineage_marker_genes = {\n",
        "    'Myeloid': ['LYZ', 'CD33', 'CD14'],\n",
        "    'Lymphoid': ['CD3D', 'CD79A', 'NKG7'],\n",
        "    'Erythroid': ['HBB', 'GYPA', 'ALAS2'],\n",
        "}\n",
        "\n",
        "for lineage, genes in lineage_marker_genes.items():\n",
        "    # Make sure genes are present in our dataset\n",
        "    genes_to_plot = [gene for gene in genes if gene in adata.var_names]\n",
        "\n",
        "    print(f\"{lineage} cells\")\n",
        "\n",
        "    sc.pl.umap(\n",
        "        adata,\n",
        "        color=genes_to_plot,\n",
        "        ncols=3,\n",
        "        size=15,\n",
        "        layer='log_norm',\n",
        "    )"
      ],
      "metadata": {
        "id": "YoLMAQuT9Riu"
      },
      "id": "YoLMAQuT9Riu",
      "execution_count": null,
      "outputs": []
    },
    {
      "cell_type": "markdown",
      "source": [
        "There are fairly clear patterns of expression for our lineage markers shown here, which we can use to broadly label our clusters."
      ],
      "metadata": {
        "id": "g_pIMAmy9XMU"
      },
      "id": "g_pIMAmy9XMU"
    },
    {
      "cell_type": "code",
      "source": [
        "adata.obs[\"lineage_annotation\"] = adata.obs[\"leiden\"].map(\n",
        "    {\n",
        "        \"0\": \"Lymphoid\",\n",
        "        \"1\": \"Myeloid\",\n",
        "        \"2\": \"Lymphoid\",\n",
        "        \"3\": \"Erythroid\",\n",
        "        \"4\": \"Erythroid\",\n",
        "    }\n",
        ")\n",
        "\n",
        "sc.pl.umap(\n",
        "    adata,\n",
        "    color=[\"leiden\", \"lineage_annotation\"],\n",
        "    size=15,\n",
        "    ncols=2,\n",
        "    palette='tab10',\n",
        "    legend_loc='on data',\n",
        "    legend_fontoutline=2,\n",
        "    title=[\"leiden (res=0.02)\", \"lineage_annotation\"],\n",
        ")"
      ],
      "metadata": {
        "id": "38kf6bmQ8o9b"
      },
      "id": "38kf6bmQ8o9b",
      "execution_count": null,
      "outputs": []
    },
    {
      "cell_type": "markdown",
      "source": [
        "At low clustering resolution (e.g., 0.02), cells are grouped into broad lineages, which helps us to identify major cell types using a small set of marker genes. But even within these broad clusters, there are clear differences among cells, suggesting hidden heterogeneity that our current resolution does not fully capture."
      ],
      "metadata": {
        "id": "-YMQ59Ce__JY"
      },
      "id": "-YMQ59Ce__JY"
    },
    {
      "cell_type": "code",
      "source": [
        "# E.g., the Lymphoid marker genes\n",
        "sc.pl.umap(\n",
        "    adata,\n",
        "    color=['lineage_annotation', 'CD3D', 'CD79A', 'NKG7'],\n",
        "    size=15,\n",
        "    ncols=4,\n",
        "    legend_loc='on data',\n",
        "    legend_fontoutline=2,\n",
        ")"
      ],
      "metadata": {
        "id": "YAgxwbIJKy_U"
      },
      "id": "YAgxwbIJKy_U",
      "execution_count": null,
      "outputs": []
    },
    {
      "cell_type": "markdown",
      "source": [
        "<br>\n",
        "\n",
        "---------------------------------------------------------------"
      ],
      "metadata": {
        "id": "ULdJdhSaKcDV"
      },
      "id": "ULdJdhSaKcDV"
    },
    {
      "cell_type": "markdown",
      "source": [
        "# Hands-On Challenge: Resolving Subpopulations\n",
        "\n",
        "Next, we'll zoom in and try to resolve this heterogeneity. Below, we provide:\n",
        "* Marker genes for specific cell types\n",
        "* Code for adjusting and exploring clustering resolutions\n",
        "* Additional `scanpy` functions (optional)\n",
        "\n",
        "<br>\n",
        "\n",
        "Your **GOAL** is to explore gene expression and adjust the clustering resolution to best separate and annotate these subpopulations of cells.\n",
        "\n",
        "<br>\n",
        "\n",
        "*Note: Cell type annotation typically requires multiple rounds of subclustering, re-annotation, and domain knowledge. The exact number of clusters is somewhat arbitrary, and results are never perfect---especially in a short session like this. For now, aim for a clustering that makes sense for annotating our cell types, even if it's not exact.*"
      ],
      "metadata": {
        "id": "qQJiUq_eDhqO"
      },
      "id": "qQJiUq_eDhqO"
    },
    {
      "cell_type": "code",
      "source": [
        "cell_type_markers = {\n",
        "    ### Myeloid\n",
        "    'Monocyte': ['CD14', 'FCN1', 'S100A8'],\n",
        "\n",
        "    ### Lymphoid\n",
        "    'T cell': ['CD3E', 'IL7R', 'TRAC'],\n",
        "    'CD8+ T cell': ['CCL5', 'GZMA', 'GZMH'],\n",
        "    'T naive': ['CCR7', 'LEF1', 'TCF7'],\n",
        "    'B cell': ['CD79A', 'MS4A1', 'IGHD'],\n",
        "    'Transitional B': ['MME', 'CD38', 'ACSM3'],\n",
        "    'Plasma cell': ['JCHAIN', 'MZB1', 'XBP1'],\n",
        "\n",
        "    ### Erythroid\n",
        "    'Erythroblast': ['HBA1', 'MKI67', 'GYPA'],\n",
        "    'Proerythroblast': ['CD34', 'CDK6', 'SYNGR1'],\n",
        "}\n",
        "\n",
        "# Note that some markers are expressed in multiple cell types"
      ],
      "metadata": {
        "id": "tAXH1ItCFdJf"
      },
      "id": "tAXH1ItCFdJf",
      "execution_count": null,
      "outputs": []
    },
    {
      "cell_type": "code",
      "source": [
        "resolutions = [0.02, 0.5, 2.0] # Choose clustering resolutions here\n",
        "\n",
        "for res in resolutions:\n",
        "    sc.tl.leiden(\n",
        "        adata,\n",
        "        key_added=f\"leiden_res_{res}\", # adds to adata.obs\n",
        "        resolution=res, # default = 1\n",
        "        flavor=\"igraph\",\n",
        "    )\n",
        "\n",
        "# Visualize clusters\n",
        "sc.settings.set_figure_params(figsize=(5, 5))\n",
        "sc.pl.umap(\n",
        "    adata,\n",
        "    color=[f\"leiden_res_{res}\" for res in resolutions],\n",
        "    size=15,\n",
        "    palette='tab20',\n",
        "    legend_loc=\"on data\",\n",
        "    legend_fontoutline=2,\n",
        ")"
      ],
      "metadata": {
        "id": "KqbIK_6iGt6b"
      },
      "id": "KqbIK_6iGt6b",
      "execution_count": null,
      "outputs": []
    },
    {
      "cell_type": "markdown",
      "source": [
        "*Hint: Resolution = 2.0 overclusters the data.*"
      ],
      "metadata": {
        "id": "7jZiGxqQJ1JE"
      },
      "id": "7jZiGxqQJ1JE"
    },
    {
      "cell_type": "markdown",
      "source": [
        "### Additional `scanpy` functions\n",
        "\n",
        "[All scanpy plotting functions](https://scanpy.readthedocs.io/en/stable/api/plotting.html)"
      ],
      "metadata": {
        "id": "mPseBYkgJSH_"
      },
      "id": "mPseBYkgJSH_"
    },
    {
      "cell_type": "code",
      "source": [
        "### ----- Dotplot of gene expression -----\n",
        "\n",
        "sc.pl.dotplot(\n",
        "    adata,\n",
        "    cell_type_markers, # input list of genes\n",
        "    groupby='leiden',\n",
        "    standard_scale='var',\n",
        ")\n",
        "\n",
        "\n",
        "### ----- Plot highest expressed genes -----\n",
        "\n",
        "sc.pl.highest_expr_genes(\n",
        "    adata,\n",
        "    n_top=10,\n",
        "    layer='log_norm',\n",
        ")\n",
        "\n",
        "\n",
        "### ----- Gene scoring -----\n",
        "\n",
        "# Score a gene, or set of genes, against a randomly sampled reference set of genes (similar to Z-score)\n",
        "# Can plot resulting score (adata.obs['score']) on UMAP embedding\n",
        "\n",
        "gene_list = cell_type_markers['B cell'] # Example: B Cell marker genes from the curated list\n",
        "\n",
        "sc.tl.score_genes(\n",
        "    adata,\n",
        "    gene_list=gene_list, # input list of genes\n",
        "    ctrl_size=500, # can adjust\n",
        "    score_name='score', # score name to be added to adata.obs\n",
        "    layer='log_norm',\n",
        ")\n",
        "\n",
        "\n",
        "### ----- Differential Gene Expression (DGE) -----\n",
        "\n",
        "# Computes marker genes per group/cluster using simple statistical tests; compares each group against the union of the rest\n",
        "sc.tl.rank_genes_groups(\n",
        "    adata,\n",
        "    groupby='leiden', # cell grouping from adata.obs to consider (e.g., our leiden clusters from above)\n",
        "    method='wilcoxon',\n",
        "    corr_method='benjamini-hochberg',\n",
        "    use_raw=False,\n",
        "    layer='log_norm',\n",
        "    pts=True, # computes fraction of cells expressing the genes\n",
        ")\n",
        "\n",
        "# Extract DGE results as a dataframe\n",
        "dge = sc.get.rank_genes_groups_df(adata, group=None) # can subset for a specific cluster with group param (e.g., group='3')\n",
        "\n",
        "# Example plot to visualize DE genes\n",
        "sc.pl.rank_genes_groups_dotplot(\n",
        "    adata,\n",
        "    groupby='leiden',\n",
        "    standard_scale=\"var\",\n",
        "    n_genes=5, # n genes to show per group\n",
        "    # values_to_plot='logfoldchanges', # default is mean expression within the group\n",
        ")"
      ],
      "metadata": {
        "id": "v9mZr4lVJN0H"
      },
      "id": "v9mZr4lVJN0H",
      "execution_count": null,
      "outputs": []
    },
    {
      "cell_type": "markdown",
      "source": [
        "<br>\n",
        "\n",
        "---------------------------------------------------------------"
      ],
      "metadata": {
        "id": "AH_TEng62Wk4"
      },
      "id": "AH_TEng62Wk4"
    },
    {
      "cell_type": "code",
      "source": [
        "more_markers = {\n",
        "    'Monocyte': ['CD14', 'FCN1', 'S100A8', 'ITGAM', 'CCR2', 'LYN'],\n",
        "    'T cell': ['CD3E', 'IL7R', 'TRAC', 'CD3G', 'TRA'],\n",
        "    'CD8+ T cell': [\"CD8A\", \"CD8B\", \"GZMK\", \"GZMA\", \"CCL5\", \"GZMB\", \"GZMH\", \"GZMA\"],\n",
        "    'T naive': ['CCR7', 'LEF1', 'TCF7', 'PTPRC', 'SELL'],\n",
        "    'B cell': ['CD79A', 'MS4A1', 'IGHD', 'CD19', 'CR2', 'CD79B'],\n",
        "    'Transitional B': [\"MME\", \"CD38\", \"CD24\", \"ACSM3\", \"MSI2\", 'CD27', 'IGHD'], # CD27 is a negative marker\n",
        "    'Plasma cell': ['JCHAIN', 'MZB1', 'XBP1', \"HSP90B1\", \"FNDC3B\", \"PRDM1\", \"IGKC\", 'PAX5'], # PAX5 is a negative marker\n",
        "    'Erythroblast': ['HBA1', 'MKI67', 'GYPA', 'TFRC', 'KMT5A', 'TAL1'],\n",
        "    'Proerythroblast': ['CD34', 'CDK6', 'SYNGR1', 'HBM', 'GYPA', 'ENG', 'MYB'], # HBM and GYPA are negative markers\n",
        "}"
      ],
      "metadata": {
        "id": "m45Y4aWh3Xph"
      },
      "id": "m45Y4aWh3Xph",
      "execution_count": null,
      "outputs": []
    }
  ],
  "metadata": {
    "kernelspec": {
      "display_name": "Python 3 (ipykernel)",
      "language": "python",
      "name": "python3"
    },
    "language_info": {
      "codemirror_mode": {
        "name": "ipython",
        "version": 3
      },
      "file_extension": ".py",
      "mimetype": "text/x-python",
      "name": "python",
      "nbconvert_exporter": "python",
      "pygments_lexer": "ipython3",
      "version": "3.11.8"
    },
    "mystnb": {
      "execution_mode": "off"
    },
    "colab": {
      "provenance": []
    }
  },
  "nbformat": 4,
  "nbformat_minor": 5
}